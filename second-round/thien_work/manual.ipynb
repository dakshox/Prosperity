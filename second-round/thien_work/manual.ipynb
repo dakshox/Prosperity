{
 "cells": [
  {
   "cell_type": "code",
   "execution_count": 36,
   "metadata": {},
   "outputs": [],
   "source": [
    "RATES = [\n",
    "    [1.00, 0.48, 1.52, 0.71],\n",
    "    [2.05, 1.00, 3.26, 1.56],\n",
    "    [0.64, 0.30, 1.00, 0.46],\n",
    "    [1.41, 0.61, 2.08, 1.00],\n",
    "]\n",
    "\n",
    "NAMES = [\"pizza\", \"wasabi\", \"snow\", \"shells\"]\n",
    "START = 3\n",
    "assert NAMES[START] == \"shells\"\n",
    "\n",
    "MAX_TRADES = 5"
   ]
  },
  {
   "cell_type": "code",
   "execution_count": 37,
   "metadata": {},
   "outputs": [],
   "source": [
    "def resolve(sequence: int):\n",
    "    amt = 1.0\n",
    "    for i in range(len(sequence) - 1):\n",
    "        amt *= RATES[sequence[i]][sequence[i + 1]]\n",
    "    return amt"
   ]
  },
  {
   "cell_type": "code",
   "execution_count": 38,
   "metadata": {},
   "outputs": [
    {
     "name": "stdout",
     "output_type": "stream",
     "text": [
      "91\n"
     ]
    }
   ],
   "source": [
    "def generate_sequences(trades: int, start: int):\n",
    "    res = []\n",
    "    def f(cur, n):\n",
    "        if cur[-1] == start:\n",
    "            res.append(cur)\n",
    "        if n == 0:\n",
    "            return\n",
    "        for i in range(len(NAMES)):\n",
    "            if i == cur[-1]:\n",
    "                continue\n",
    "            f(cur + [i], n - 1)\n",
    "    f([start], trades)\n",
    "    return res\n",
    "\n",
    "all_sequences = generate_sequences(MAX_TRADES, START)\n",
    "print(len(all_sequences))"
   ]
  },
  {
   "cell_type": "code",
   "execution_count": 39,
   "metadata": {},
   "outputs": [],
   "source": [
    "import pandas as pd\n",
    "import numpy as np"
   ]
  },
  {
   "cell_type": "code",
   "execution_count": 40,
   "metadata": {},
   "outputs": [
    {
     "data": {
      "text/html": [
       "<div>\n",
       "<style scoped>\n",
       "    .dataframe tbody tr th:only-of-type {\n",
       "        vertical-align: middle;\n",
       "    }\n",
       "\n",
       "    .dataframe tbody tr th {\n",
       "        vertical-align: top;\n",
       "    }\n",
       "\n",
       "    .dataframe thead th {\n",
       "        text-align: right;\n",
       "    }\n",
       "</style>\n",
       "<table border=\"1\" class=\"dataframe\">\n",
       "  <thead>\n",
       "    <tr style=\"text-align: right;\">\n",
       "      <th></th>\n",
       "      <th>sequence</th>\n",
       "      <th>money</th>\n",
       "    </tr>\n",
       "  </thead>\n",
       "  <tbody>\n",
       "    <tr>\n",
       "      <th>0</th>\n",
       "      <td>[3, 0, 1, 3, 0, 3]</td>\n",
       "      <td>1.056969</td>\n",
       "    </tr>\n",
       "    <tr>\n",
       "      <th>1</th>\n",
       "      <td>[3, 0, 3, 0, 1, 3]</td>\n",
       "      <td>1.056969</td>\n",
       "    </tr>\n",
       "    <tr>\n",
       "      <th>2</th>\n",
       "      <td>[3, 0, 1, 3]</td>\n",
       "      <td>1.055808</td>\n",
       "    </tr>\n",
       "    <tr>\n",
       "      <th>3</th>\n",
       "      <td>[3, 0, 1, 0, 1, 3]</td>\n",
       "      <td>1.038915</td>\n",
       "    </tr>\n",
       "    <tr>\n",
       "      <th>4</th>\n",
       "      <td>[3, 0, 1, 2, 1, 3]</td>\n",
       "      <td>1.032580</td>\n",
       "    </tr>\n",
       "    <tr>\n",
       "      <th>...</th>\n",
       "      <td>...</td>\n",
       "      <td>...</td>\n",
       "    </tr>\n",
       "    <tr>\n",
       "      <th>86</th>\n",
       "      <td>[3, 1, 0, 2, 0, 3]</td>\n",
       "      <td>0.863705</td>\n",
       "    </tr>\n",
       "    <tr>\n",
       "      <th>87</th>\n",
       "      <td>[3, 1, 0, 3, 2, 3]</td>\n",
       "      <td>0.849500</td>\n",
       "    </tr>\n",
       "    <tr>\n",
       "      <th>88</th>\n",
       "      <td>[3, 2, 3, 1, 0, 3]</td>\n",
       "      <td>0.849500</td>\n",
       "    </tr>\n",
       "    <tr>\n",
       "      <th>89</th>\n",
       "      <td>[3, 1, 3, 1, 0, 3]</td>\n",
       "      <td>0.844883</td>\n",
       "    </tr>\n",
       "    <tr>\n",
       "      <th>90</th>\n",
       "      <td>[3, 1, 0, 3, 1, 3]</td>\n",
       "      <td>0.844883</td>\n",
       "    </tr>\n",
       "  </tbody>\n",
       "</table>\n",
       "<p>91 rows × 2 columns</p>\n",
       "</div>"
      ],
      "text/plain": [
       "              sequence     money\n",
       "0   [3, 0, 1, 3, 0, 3]  1.056969\n",
       "1   [3, 0, 3, 0, 1, 3]  1.056969\n",
       "2         [3, 0, 1, 3]  1.055808\n",
       "3   [3, 0, 1, 0, 1, 3]  1.038915\n",
       "4   [3, 0, 1, 2, 1, 3]  1.032580\n",
       "..                 ...       ...\n",
       "86  [3, 1, 0, 2, 0, 3]  0.863705\n",
       "87  [3, 1, 0, 3, 2, 3]  0.849500\n",
       "88  [3, 2, 3, 1, 0, 3]  0.849500\n",
       "89  [3, 1, 3, 1, 0, 3]  0.844883\n",
       "90  [3, 1, 0, 3, 1, 3]  0.844883\n",
       "\n",
       "[91 rows x 2 columns]"
      ]
     },
     "execution_count": 40,
     "metadata": {},
     "output_type": "execute_result"
    }
   ],
   "source": [
    "sequences_df = pd.DataFrame({\"sequence\": all_sequences})\n",
    "sequences_df[\"money\"] = sequences_df.apply(lambda r: resolve(r[\"sequence\"]), axis=1)\n",
    "sequences_df.sort_values(\"money\", ascending=False, inplace=True)\n",
    "sequences_df.reset_index(inplace=True, drop=True)\n",
    "sequences_df"
   ]
  },
  {
   "cell_type": "code",
   "execution_count": 41,
   "metadata": {},
   "outputs": [],
   "source": [
    "import seaborn as sns\n",
    "import matplotlib.pyplot as plt\n",
    "\n",
    "sns.set_theme(style=\"whitegrid\")"
   ]
  },
  {
   "cell_type": "code",
   "execution_count": 42,
   "metadata": {},
   "outputs": [
    {
     "data": {
      "text/plain": [
       "<Axes: ylabel='Frequency'>"
      ]
     },
     "execution_count": 42,
     "metadata": {},
     "output_type": "execute_result"
    },
    {
     "data": {
      "image/png": "[encoded data removed]",
      "text/plain": [
       "<Figure size 640x480 with 1 Axes>"
      ]
     },
     "metadata": {},
     "output_type": "display_data"
    }
   ],
   "source": [
    "sequences_df.plot(y=\"money\", kind=\"hist\", bins=50)"
   ]
  },
  {
   "cell_type": "code",
   "execution_count": 44,
   "metadata": {},
   "outputs": [
    {
     "data": {
      "text/html": [
       "<div>\n",
       "<style scoped>\n",
       "    .dataframe tbody tr th:only-of-type {\n",
       "        vertical-align: middle;\n",
       "    }\n",
       "\n",
       "    .dataframe tbody tr th {\n",
       "        vertical-align: top;\n",
       "    }\n",
       "\n",
       "    .dataframe thead th {\n",
       "        text-align: right;\n",
       "    }\n",
       "</style>\n",
       "<table border=\"1\" class=\"dataframe\">\n",
       "  <thead>\n",
       "    <tr style=\"text-align: right;\">\n",
       "      <th></th>\n",
       "      <th>sequence</th>\n",
       "      <th>money</th>\n",
       "    </tr>\n",
       "  </thead>\n",
       "  <tbody>\n",
       "    <tr>\n",
       "      <th>0</th>\n",
       "      <td>[3, 0, 1, 3, 0, 3]</td>\n",
       "      <td>1.056969</td>\n",
       "    </tr>\n",
       "    <tr>\n",
       "      <th>1</th>\n",
       "      <td>[3, 0, 3, 0, 1, 3]</td>\n",
       "      <td>1.056969</td>\n",
       "    </tr>\n",
       "    <tr>\n",
       "      <th>2</th>\n",
       "      <td>[3, 0, 1, 3]</td>\n",
       "      <td>1.055808</td>\n",
       "    </tr>\n",
       "    <tr>\n",
       "      <th>3</th>\n",
       "      <td>[3, 0, 1, 0, 1, 3]</td>\n",
       "      <td>1.038915</td>\n",
       "    </tr>\n",
       "    <tr>\n",
       "      <th>4</th>\n",
       "      <td>[3, 0, 1, 2, 1, 3]</td>\n",
       "      <td>1.032580</td>\n",
       "    </tr>\n",
       "    <tr>\n",
       "      <th>5</th>\n",
       "      <td>[3, 0, 2, 0, 1, 3]</td>\n",
       "      <td>1.027090</td>\n",
       "    </tr>\n",
       "    <tr>\n",
       "      <th>6</th>\n",
       "      <td>[3, 0, 1, 2, 3]</td>\n",
       "      <td>1.014929</td>\n",
       "    </tr>\n",
       "    <tr>\n",
       "      <th>7</th>\n",
       "      <td>[3, 0, 1, 3, 2, 3]</td>\n",
       "      <td>1.010197</td>\n",
       "    </tr>\n",
       "    <tr>\n",
       "      <th>8</th>\n",
       "      <td>[3, 2, 3, 0, 1, 3]</td>\n",
       "      <td>1.010197</td>\n",
       "    </tr>\n",
       "    <tr>\n",
       "      <th>9</th>\n",
       "      <td>[3, 0, 1, 3, 1, 3]</td>\n",
       "      <td>1.004707</td>\n",
       "    </tr>\n",
       "    <tr>\n",
       "      <th>10</th>\n",
       "      <td>[3, 1, 3, 0, 1, 3]</td>\n",
       "      <td>1.004707</td>\n",
       "    </tr>\n",
       "    <tr>\n",
       "      <th>11</th>\n",
       "      <td>[3, 0, 2, 1, 3]</td>\n",
       "      <td>1.003018</td>\n",
       "    </tr>\n",
       "    <tr>\n",
       "      <th>12</th>\n",
       "      <td>[3, 0, 1, 2, 0, 3]</td>\n",
       "      <td>1.002574</td>\n",
       "    </tr>\n",
       "    <tr>\n",
       "      <th>13</th>\n",
       "      <td>[3, 0, 3, 0, 3]</td>\n",
       "      <td>1.002201</td>\n",
       "    </tr>\n",
       "    <tr>\n",
       "      <th>14</th>\n",
       "      <td>[3, 0, 3]</td>\n",
       "      <td>1.001100</td>\n",
       "    </tr>\n",
       "    <tr>\n",
       "      <th>15</th>\n",
       "      <td>[3]</td>\n",
       "      <td>1.000000</td>\n",
       "    </tr>\n",
       "  </tbody>\n",
       "</table>\n",
       "</div>"
      ],
      "text/plain": [
       "              sequence     money\n",
       "0   [3, 0, 1, 3, 0, 3]  1.056969\n",
       "1   [3, 0, 3, 0, 1, 3]  1.056969\n",
       "2         [3, 0, 1, 3]  1.055808\n",
       "3   [3, 0, 1, 0, 1, 3]  1.038915\n",
       "4   [3, 0, 1, 2, 1, 3]  1.032580\n",
       "5   [3, 0, 2, 0, 1, 3]  1.027090\n",
       "6      [3, 0, 1, 2, 3]  1.014929\n",
       "7   [3, 0, 1, 3, 2, 3]  1.010197\n",
       "8   [3, 2, 3, 0, 1, 3]  1.010197\n",
       "9   [3, 0, 1, 3, 1, 3]  1.004707\n",
       "10  [3, 1, 3, 0, 1, 3]  1.004707\n",
       "11     [3, 0, 2, 1, 3]  1.003018\n",
       "12  [3, 0, 1, 2, 0, 3]  1.002574\n",
       "13     [3, 0, 3, 0, 3]  1.002201\n",
       "14           [3, 0, 3]  1.001100\n",
       "15                 [3]  1.000000"
      ]
     },
     "execution_count": 44,
     "metadata": {},
     "output_type": "execute_result"
    }
   ],
   "source": [
    "sequences_df[sequences_df[\"money\"] >= 1]"
   ]
  }
 ],
 "metadata": {
  "kernelspec": {
   "display_name": "prosperity",
   "language": "python",
   "name": "python3"
  },
  "language_info": {
   "codemirror_mode": {
    "name": "ipython",
    "version": 3
   },
   "file_extension": ".py",
   "mimetype": "text/x-python",
   "name": "python",
   "nbconvert_exporter": "python",
   "pygments_lexer": "ipython3",
   "version": "3.12.2"
  }
 },
 "nbformat": 4,
 "nbformat_minor": 2
}
