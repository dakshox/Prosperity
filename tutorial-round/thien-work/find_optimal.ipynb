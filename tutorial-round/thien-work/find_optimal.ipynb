{
 "cells": [
  {
   "cell_type": "code",
   "execution_count": 1,
   "metadata": {},
   "outputs": [],
   "source": [
    "import tools.log_parser as log_parser\n",
    "import tools.backtester as backtester\n",
    "import sys\n",
    "import datamodel\n",
    "import collections"
   ]
  },
  {
   "cell_type": "code",
   "execution_count": 9,
   "metadata": {},
   "outputs": [],
   "source": [
    "LOG_PATH = \"trader4_log.log\"\n",
    "\n",
    "LIMITS = backtester.KNOWN_LIMITS"
   ]
  },
  {
   "cell_type": "code",
   "execution_count": 10,
   "metadata": {},
   "outputs": [],
   "source": [
    "log = log_parser.parse_log(LOG_PATH, parse_trader_log_as_object=True)\n",
    "sandbox_logs = log.sandbox_logs"
   ]
  },
  {
   "cell_type": "code",
   "execution_count": 14,
   "metadata": {},
   "outputs": [],
   "source": [
    "order_books = collections.defaultdict(lambda: [])\n",
    "for entry in sandbox_logs:\n",
    "    trader_log: datamodel.TradingState = entry.trader_log\n",
    "    trade_order_depths = trader_log.order_depths\n",
    "    for k, v in trade_order_depths.items():\n",
    "        order_books[k].append((trader_log.timestamp, v))\n"
   ]
  },
  {
   "cell_type": "code",
   "execution_count": 15,
   "metadata": {},
   "outputs": [
    {
     "data": {
      "text/plain": [
       "dict_keys(['AMETHYSTS', 'STARFRUIT'])"
      ]
     },
     "execution_count": 15,
     "metadata": {},
     "output_type": "execute_result"
    }
   ],
   "source": [
    "order_books.keys()"
   ]
  },
  {
   "cell_type": "code",
   "execution_count": 17,
   "metadata": {},
   "outputs": [],
   "source": [
    "def update_dp(dp, price, qty):\n",
    "    assert qty in (-1, 1)\n",
    "    new_dp = [None] * len(dp)\n",
    "    for i in range(len(dp)):\n",
    "        new_dp[i] = dp[i]\n",
    "        if 0 <= i + qty < len(dp):\n",
    "            new_dp[i] = max(new_dp[i], dp[i+qty] + (qty * price))\n",
    "    for i in range(len(dp)):\n",
    "        dp[i] = new_dp[i]\n"
   ]
  },
  {
   "cell_type": "code",
   "execution_count": 18,
   "metadata": {},
   "outputs": [
    {
     "name": "stdout",
     "output_type": "stream",
     "text": [
      "1 -1\n"
     ]
    }
   ],
   "source": [
    "def sgn(x):\n",
    "    return int(x > 0) - int(x < 0)\n",
    "\n",
    "print(sgn(1), sgn(-1))"
   ]
  },
  {
   "cell_type": "code",
   "execution_count": 32,
   "metadata": {},
   "outputs": [
    {
     "name": "stdout",
     "output_type": "stream",
     "text": [
      "AMETHYSTS\n",
      "1448 [201438, 191440, 181442, 171444, 161446, 151448, 141448, 131448, 121448, 111448, 101448, 91448, 81448, 71448, 61448, 51448, 41448, 31448, 21448, 11448, 1448, -8552, -18552, -28552, -38552, -48552, -58552, -68552, -78552, -88552, -98552, -108552, -118552, -128552, -138552, -148552, -158552, -168552, -178552, -188554, -198556]\n",
      "STARFRUIT\n",
      "2230 [101273, 96323, 91373, 86423, 81473, 76523, 71573, 66623, 61671, 56719, 51767, 46814, 41861, 36908, 31954, 27000, 22046, 17092, 12138, 7184, 2230, -2724, -7678, -12632, -17586, -22540, -27494, -32448, -37402, -42356, -47310, -52264, -57218, -62172, -67126, -72080, -77034, -81988, -86942, -91896, -96850]\n"
     ]
    }
   ],
   "source": [
    "for symbol, trades in order_books.items():\n",
    "    print(symbol)\n",
    "    dp = [-float(\"inf\")] * (LIMITS[symbol] * 2 + 1)\n",
    "    dp[LIMITS[symbol]] = 0\n",
    "    for t, v in trades:\n",
    "        for book in (v.buy_orders, v.sell_orders):\n",
    "            for price, qty in book.items():\n",
    "                price = int(price)\n",
    "                qty = int(qty)\n",
    "                for _ in range(abs(qty)):\n",
    "                    update_dp(dp, price, sgn(qty))\n",
    "    print(dp[LIMITS[symbol]], dp)"
   ]
  }
 ],
 "metadata": {
  "kernelspec": {
   "display_name": "kaggle",
   "language": "python",
   "name": "python3"
  },
  "language_info": {
   "codemirror_mode": {
    "name": "ipython",
    "version": 3
   },
   "file_extension": ".py",
   "mimetype": "text/x-python",
   "name": "python",
   "nbconvert_exporter": "python",
   "pygments_lexer": "ipython3",
   "version": "3.11.7"
  }
 },
 "nbformat": 4,
 "nbformat_minor": 2
}
